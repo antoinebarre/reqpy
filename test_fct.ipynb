{
 "cells": [
  {
   "cell_type": "code",
   "execution_count": 1,
   "metadata": {},
   "outputs": [
    {
     "data": {
      "text/plain": [
       "[12340]"
      ]
     },
     "execution_count": 1,
     "metadata": {},
     "output_type": "execute_result"
    }
   ],
   "source": [
    "from typeguard import check_type\n",
    "from typing import List\n",
    "\n",
    "# Raises TypeCheckError if there's a problem\n",
    "check_type([12340], List[int])"
   ]
  },
  {
   "cell_type": "code",
   "execution_count": 2,
   "metadata": {},
   "outputs": [
    {
     "ename": "TypeError",
     "evalue": "<module '__main__'> is a built-in module",
     "output_type": "error",
     "traceback": [
      "\u001b[1;31m---------------------------------------------------------------------------\u001b[0m",
      "\u001b[1;31mTypeError\u001b[0m                                 Traceback (most recent call last)",
      "Cell \u001b[1;32mIn[2], line 3\u001b[0m\n\u001b[0;32m      1\u001b[0m \u001b[39mfrom\u001b[39;00m \u001b[39mtypeguard\u001b[39;00m \u001b[39mimport\u001b[39;00m typechecked\n\u001b[1;32m----> 3\u001b[0m \u001b[39m@typechecked\u001b[39;49m\n\u001b[0;32m      4\u001b[0m \u001b[39mdef\u001b[39;49;00m \u001b[39msome_function\u001b[39;49m(a: \u001b[39mstr\u001b[39;49m) \u001b[39m-\u001b[39;49m\u001b[39m>\u001b[39;49m \u001b[39mbool\u001b[39;49m:\n\u001b[0;32m      5\u001b[0m     \u001b[39mprint\u001b[39;49m(a)\n\u001b[0;32m      6\u001b[0m     \u001b[39mreturn\u001b[39;49;00m \u001b[39mTrue\u001b[39;49;00m\n",
      "File \u001b[1;32mc:\\Z\\reqpy\\.venv\\Lib\\site-packages\\typeguard\\_decorators.py:213\u001b[0m, in \u001b[0;36mtypechecked\u001b[1;34m(target, forward_ref_policy, typecheck_fail_callback, collection_check_strategy, debug_instrumentation)\u001b[0m\n\u001b[0;32m    210\u001b[0m     wrapper_class \u001b[39m=\u001b[39m target\u001b[39m.\u001b[39m\u001b[39m__class__\u001b[39m\n\u001b[0;32m    211\u001b[0m     target \u001b[39m=\u001b[39m target\u001b[39m.\u001b[39m\u001b[39m__func__\u001b[39m\n\u001b[1;32m--> 213\u001b[0m retval \u001b[39m=\u001b[39m instrument(target)\n\u001b[0;32m    214\u001b[0m \u001b[39mif\u001b[39;00m \u001b[39misinstance\u001b[39m(retval, \u001b[39mstr\u001b[39m):\n\u001b[0;32m    215\u001b[0m     warn(\n\u001b[0;32m    216\u001b[0m         \u001b[39mf\u001b[39m\u001b[39m\"\u001b[39m\u001b[39m{\u001b[39;00mretval\u001b[39m}\u001b[39;00m\u001b[39m -- not typechecking \u001b[39m\u001b[39m{\u001b[39;00mfunction_name(target)\u001b[39m}\u001b[39;00m\u001b[39m\"\u001b[39m,\n\u001b[0;32m    217\u001b[0m         InstrumentationWarning,\n\u001b[0;32m    218\u001b[0m         stacklevel\u001b[39m=\u001b[39mget_stacklevel(),\n\u001b[0;32m    219\u001b[0m     )\n",
      "File \u001b[1;32mc:\\Z\\reqpy\\.venv\\Lib\\site-packages\\typeguard\\_decorators.py:51\u001b[0m, in \u001b[0;36minstrument\u001b[1;34m(f)\u001b[0m\n\u001b[0;32m     45\u001b[0m     \u001b[39mreturn\u001b[39;00m (\n\u001b[0;32m     46\u001b[0m         \u001b[39m\"\u001b[39m\u001b[39m@typechecked only supports instrumenting functions wrapped with \u001b[39m\u001b[39m\"\u001b[39m\n\u001b[0;32m     47\u001b[0m         \u001b[39m\"\u001b[39m\u001b[39m@classmethod, @staticmethod or @property\u001b[39m\u001b[39m\"\u001b[39m\n\u001b[0;32m     48\u001b[0m     )\n\u001b[0;32m     50\u001b[0m target_path \u001b[39m=\u001b[39m [item \u001b[39mfor\u001b[39;00m item \u001b[39min\u001b[39;00m f\u001b[39m.\u001b[39m\u001b[39m__qualname__\u001b[39m\u001b[39m.\u001b[39msplit(\u001b[39m\"\u001b[39m\u001b[39m.\u001b[39m\u001b[39m\"\u001b[39m) \u001b[39mif\u001b[39;00m item \u001b[39m!=\u001b[39m \u001b[39m\"\u001b[39m\u001b[39m<locals>\u001b[39m\u001b[39m\"\u001b[39m]\n\u001b[1;32m---> 51\u001b[0m module_source \u001b[39m=\u001b[39m inspect\u001b[39m.\u001b[39;49mgetsource(sys\u001b[39m.\u001b[39;49mmodules[f\u001b[39m.\u001b[39;49m\u001b[39m__module__\u001b[39;49m])\n\u001b[0;32m     52\u001b[0m module_ast \u001b[39m=\u001b[39m ast\u001b[39m.\u001b[39mparse(module_source)\n\u001b[0;32m     53\u001b[0m instrumentor \u001b[39m=\u001b[39m TypeguardTransformer(target_path)\n",
      "File \u001b[1;32m~\\AppData\\Local\\Programs\\Python\\Python311\\Lib\\inspect.py:1262\u001b[0m, in \u001b[0;36mgetsource\u001b[1;34m(object)\u001b[0m\n\u001b[0;32m   1256\u001b[0m \u001b[39mdef\u001b[39;00m \u001b[39mgetsource\u001b[39m(\u001b[39mobject\u001b[39m):\n\u001b[0;32m   1257\u001b[0m \u001b[39m    \u001b[39m\u001b[39m\"\"\"Return the text of the source code for an object.\u001b[39;00m\n\u001b[0;32m   1258\u001b[0m \n\u001b[0;32m   1259\u001b[0m \u001b[39m    The argument may be a module, class, method, function, traceback, frame,\u001b[39;00m\n\u001b[0;32m   1260\u001b[0m \u001b[39m    or code object.  The source code is returned as a single string.  An\u001b[39;00m\n\u001b[0;32m   1261\u001b[0m \u001b[39m    OSError is raised if the source code cannot be retrieved.\"\"\"\u001b[39;00m\n\u001b[1;32m-> 1262\u001b[0m     lines, lnum \u001b[39m=\u001b[39m getsourcelines(\u001b[39mobject\u001b[39;49m)\n\u001b[0;32m   1263\u001b[0m     \u001b[39mreturn\u001b[39;00m \u001b[39m'\u001b[39m\u001b[39m'\u001b[39m\u001b[39m.\u001b[39mjoin(lines)\n",
      "File \u001b[1;32m~\\AppData\\Local\\Programs\\Python\\Python311\\Lib\\inspect.py:1244\u001b[0m, in \u001b[0;36mgetsourcelines\u001b[1;34m(object)\u001b[0m\n\u001b[0;32m   1236\u001b[0m \u001b[39m\u001b[39m\u001b[39m\"\"\"Return a list of source lines and starting line number for an object.\u001b[39;00m\n\u001b[0;32m   1237\u001b[0m \n\u001b[0;32m   1238\u001b[0m \u001b[39mThe argument may be a module, class, method, function, traceback, frame,\u001b[39;00m\n\u001b[1;32m   (...)\u001b[0m\n\u001b[0;32m   1241\u001b[0m \u001b[39moriginal source file the first line of code was found.  An OSError is\u001b[39;00m\n\u001b[0;32m   1242\u001b[0m \u001b[39mraised if the source code cannot be retrieved.\"\"\"\u001b[39;00m\n\u001b[0;32m   1243\u001b[0m \u001b[39mobject\u001b[39m \u001b[39m=\u001b[39m unwrap(\u001b[39mobject\u001b[39m)\n\u001b[1;32m-> 1244\u001b[0m lines, lnum \u001b[39m=\u001b[39m findsource(\u001b[39mobject\u001b[39;49m)\n\u001b[0;32m   1246\u001b[0m \u001b[39mif\u001b[39;00m istraceback(\u001b[39mobject\u001b[39m):\n\u001b[0;32m   1247\u001b[0m     \u001b[39mobject\u001b[39m \u001b[39m=\u001b[39m \u001b[39mobject\u001b[39m\u001b[39m.\u001b[39mtb_frame\n",
      "File \u001b[1;32m~\\AppData\\Local\\Programs\\Python\\Python311\\Lib\\inspect.py:1063\u001b[0m, in \u001b[0;36mfindsource\u001b[1;34m(object)\u001b[0m\n\u001b[0;32m   1055\u001b[0m \u001b[39mdef\u001b[39;00m \u001b[39mfindsource\u001b[39m(\u001b[39mobject\u001b[39m):\n\u001b[0;32m   1056\u001b[0m \u001b[39m    \u001b[39m\u001b[39m\"\"\"Return the entire source file and starting line number for an object.\u001b[39;00m\n\u001b[0;32m   1057\u001b[0m \n\u001b[0;32m   1058\u001b[0m \u001b[39m    The argument may be a module, class, method, function, traceback, frame,\u001b[39;00m\n\u001b[0;32m   1059\u001b[0m \u001b[39m    or code object.  The source code is returned as a list of all the lines\u001b[39;00m\n\u001b[0;32m   1060\u001b[0m \u001b[39m    in the file and the line number indexes a line in that list.  An OSError\u001b[39;00m\n\u001b[0;32m   1061\u001b[0m \u001b[39m    is raised if the source code cannot be retrieved.\"\"\"\u001b[39;00m\n\u001b[1;32m-> 1063\u001b[0m     file \u001b[39m=\u001b[39m getsourcefile(\u001b[39mobject\u001b[39;49m)\n\u001b[0;32m   1064\u001b[0m     \u001b[39mif\u001b[39;00m file:\n\u001b[0;32m   1065\u001b[0m         \u001b[39m# Invalidate cache if needed.\u001b[39;00m\n\u001b[0;32m   1066\u001b[0m         linecache\u001b[39m.\u001b[39mcheckcache(file)\n",
      "File \u001b[1;32m~\\AppData\\Local\\Programs\\Python\\Python311\\Lib\\inspect.py:940\u001b[0m, in \u001b[0;36mgetsourcefile\u001b[1;34m(object)\u001b[0m\n\u001b[0;32m    936\u001b[0m \u001b[39mdef\u001b[39;00m \u001b[39mgetsourcefile\u001b[39m(\u001b[39mobject\u001b[39m):\n\u001b[0;32m    937\u001b[0m \u001b[39m    \u001b[39m\u001b[39m\"\"\"Return the filename that can be used to locate an object's source.\u001b[39;00m\n\u001b[0;32m    938\u001b[0m \u001b[39m    Return None if no way can be identified to get the source.\u001b[39;00m\n\u001b[0;32m    939\u001b[0m \u001b[39m    \"\"\"\u001b[39;00m\n\u001b[1;32m--> 940\u001b[0m     filename \u001b[39m=\u001b[39m getfile(\u001b[39mobject\u001b[39;49m)\n\u001b[0;32m    941\u001b[0m     all_bytecode_suffixes \u001b[39m=\u001b[39m importlib\u001b[39m.\u001b[39mmachinery\u001b[39m.\u001b[39mDEBUG_BYTECODE_SUFFIXES[:]\n\u001b[0;32m    942\u001b[0m     all_bytecode_suffixes \u001b[39m+\u001b[39m\u001b[39m=\u001b[39m importlib\u001b[39m.\u001b[39mmachinery\u001b[39m.\u001b[39mOPTIMIZED_BYTECODE_SUFFIXES[:]\n",
      "File \u001b[1;32m~\\AppData\\Local\\Programs\\Python\\Python311\\Lib\\inspect.py:901\u001b[0m, in \u001b[0;36mgetfile\u001b[1;34m(object)\u001b[0m\n\u001b[0;32m    899\u001b[0m     \u001b[39mif\u001b[39;00m \u001b[39mgetattr\u001b[39m(\u001b[39mobject\u001b[39m, \u001b[39m'\u001b[39m\u001b[39m__file__\u001b[39m\u001b[39m'\u001b[39m, \u001b[39mNone\u001b[39;00m):\n\u001b[0;32m    900\u001b[0m         \u001b[39mreturn\u001b[39;00m \u001b[39mobject\u001b[39m\u001b[39m.\u001b[39m\u001b[39m__file__\u001b[39m\n\u001b[1;32m--> 901\u001b[0m     \u001b[39mraise\u001b[39;00m \u001b[39mTypeError\u001b[39;00m(\u001b[39m'\u001b[39m\u001b[39m{!r}\u001b[39;00m\u001b[39m is a built-in module\u001b[39m\u001b[39m'\u001b[39m\u001b[39m.\u001b[39mformat(\u001b[39mobject\u001b[39m))\n\u001b[0;32m    902\u001b[0m \u001b[39mif\u001b[39;00m isclass(\u001b[39mobject\u001b[39m):\n\u001b[0;32m    903\u001b[0m     \u001b[39mif\u001b[39;00m \u001b[39mhasattr\u001b[39m(\u001b[39mobject\u001b[39m, \u001b[39m'\u001b[39m\u001b[39m__module__\u001b[39m\u001b[39m'\u001b[39m):\n",
      "\u001b[1;31mTypeError\u001b[0m: <module '__main__'> is a built-in module"
     ]
    }
   ],
   "source": [
    "from typeguard import typechecked\n",
    "\n",
    "@typechecked\n",
    "def some_function(a: str) -> bool:\n",
    "    print(a)\n",
    "    return True\n",
    "\n",
    "a = some_function(\"dfgdgdg\")"
   ]
  },
  {
   "cell_type": "code",
   "execution_count": 1,
   "metadata": {},
   "outputs": [
    {
     "name": "stdout",
     "output_type": "stream",
     "text": [
      "10\n",
      "Hello\n"
     ]
    },
    {
     "ename": "ValidationError",
     "evalue": "1 validation error for MyArgument\narg1\n  value is not a valid integer (type=type_error.integer)",
     "output_type": "error",
     "traceback": [
      "\u001b[1;31m---------------------------------------------------------------------------\u001b[0m",
      "\u001b[1;31mValidationError\u001b[0m                           Traceback (most recent call last)",
      "Cell \u001b[1;32mIn[1], line 20\u001b[0m\n\u001b[0;32m     17\u001b[0m valid_argument \u001b[39m=\u001b[39m MyArgument(arg1\u001b[39m=\u001b[39m\u001b[39m10\u001b[39m, arg2\u001b[39m=\u001b[39m\u001b[39m\"\u001b[39m\u001b[39mHello\u001b[39m\u001b[39m\"\u001b[39m)\n\u001b[0;32m     18\u001b[0m my_function(valid_argument)  \u001b[39m# Valid argument\u001b[39;00m\n\u001b[1;32m---> 20\u001b[0m invalid_argument \u001b[39m=\u001b[39m MyArgument(arg1\u001b[39m=\u001b[39;49m\u001b[39m\"\u001b[39;49m\u001b[39mNot an integer\u001b[39;49m\u001b[39m\"\u001b[39;49m, arg2\u001b[39m=\u001b[39;49m\u001b[39m\"\u001b[39;49m\u001b[39mHello\u001b[39;49m\u001b[39m\"\u001b[39;49m)\n\u001b[0;32m     21\u001b[0m \u001b[39mtry\u001b[39;00m:\n\u001b[0;32m     22\u001b[0m     my_function(invalid_argument)  \u001b[39m# Raises ValidationError\u001b[39;00m\n",
      "File \u001b[1;32mc:\\Z\\reqpy\\.venv\\Lib\\site-packages\\pydantic\\main.py:341\u001b[0m, in \u001b[0;36mpydantic.main.BaseModel.__init__\u001b[1;34m()\u001b[0m\n",
      "\u001b[1;31mValidationError\u001b[0m: 1 validation error for MyArgument\narg1\n  value is not a valid integer (type=type_error.integer)"
     ]
    }
   ],
   "source": [
    "from pydantic import BaseModel, ValidationError\n",
    "\n",
    "\n",
    "class MyArgument(BaseModel):\n",
    "    arg1: int\n",
    "    arg2: str\n",
    "\n",
    "\n",
    "def my_function(arg: MyArgument):\n",
    "    # The argument has already been validated by Pydantic\n",
    "    # You can access its properties directly\n",
    "    print(arg.arg1)\n",
    "    print(arg.arg2)\n",
    "\n",
    "\n",
    "# Testing the function\n",
    "valid_argument = MyArgument(arg1=10, arg2=\"Hello\")\n",
    "my_function(valid_argument)  # Valid argument\n",
    "\n",
    "invalid_argument = MyArgument(arg1=\"Not an integer\", arg2=\"Hello\")\n",
    "try:\n",
    "    my_function(invalid_argument)  # Raises ValidationError\n",
    "except ValidationError as e:\n",
    "    print(e)\n"
   ]
  },
  {
   "cell_type": "code",
   "execution_count": 3,
   "metadata": {},
   "outputs": [
    {
     "ename": "TypeError",
     "evalue": "<module '__main__'> is a built-in module",
     "output_type": "error",
     "traceback": [
      "\u001b[1;31m---------------------------------------------------------------------------\u001b[0m",
      "\u001b[1;31mTypeError\u001b[0m                                 Traceback (most recent call last)",
      "Cell \u001b[1;32mIn[3], line 4\u001b[0m\n\u001b[0;32m      1\u001b[0m \u001b[39mfrom\u001b[39;00m \u001b[39mtypeguard\u001b[39;00m \u001b[39mimport\u001b[39;00m typechecked\n\u001b[1;32m----> 4\u001b[0m \u001b[39m@typechecked\u001b[39;49m\n\u001b[0;32m      5\u001b[0m \u001b[39mdef\u001b[39;49;00m \u001b[39mmy_function\u001b[39;49m(arg: \u001b[39mint\u001b[39;49m, other_arg: \u001b[39mstr\u001b[39;49m):\n\u001b[0;32m      6\u001b[0m     \u001b[39m# Rest of the function's code...\u001b[39;49;00m\n\u001b[0;32m      7\u001b[0m     \u001b[39mreturn\u001b[39;49;00m \u001b[39m1\u001b[39;49m\n\u001b[0;32m      9\u001b[0m \u001b[39m# Testing the function\u001b[39;00m\n",
      "File \u001b[1;32mc:\\Z\\reqpy\\.venv\\Lib\\site-packages\\typeguard\\_decorators.py:213\u001b[0m, in \u001b[0;36mtypechecked\u001b[1;34m(target, forward_ref_policy, typecheck_fail_callback, collection_check_strategy, debug_instrumentation)\u001b[0m\n\u001b[0;32m    210\u001b[0m     wrapper_class \u001b[39m=\u001b[39m target\u001b[39m.\u001b[39m\u001b[39m__class__\u001b[39m\n\u001b[0;32m    211\u001b[0m     target \u001b[39m=\u001b[39m target\u001b[39m.\u001b[39m\u001b[39m__func__\u001b[39m\n\u001b[1;32m--> 213\u001b[0m retval \u001b[39m=\u001b[39m instrument(target)\n\u001b[0;32m    214\u001b[0m \u001b[39mif\u001b[39;00m \u001b[39misinstance\u001b[39m(retval, \u001b[39mstr\u001b[39m):\n\u001b[0;32m    215\u001b[0m     warn(\n\u001b[0;32m    216\u001b[0m         \u001b[39mf\u001b[39m\u001b[39m\"\u001b[39m\u001b[39m{\u001b[39;00mretval\u001b[39m}\u001b[39;00m\u001b[39m -- not typechecking \u001b[39m\u001b[39m{\u001b[39;00mfunction_name(target)\u001b[39m}\u001b[39;00m\u001b[39m\"\u001b[39m,\n\u001b[0;32m    217\u001b[0m         InstrumentationWarning,\n\u001b[0;32m    218\u001b[0m         stacklevel\u001b[39m=\u001b[39mget_stacklevel(),\n\u001b[0;32m    219\u001b[0m     )\n",
      "File \u001b[1;32mc:\\Z\\reqpy\\.venv\\Lib\\site-packages\\typeguard\\_decorators.py:51\u001b[0m, in \u001b[0;36minstrument\u001b[1;34m(f)\u001b[0m\n\u001b[0;32m     45\u001b[0m     \u001b[39mreturn\u001b[39;00m (\n\u001b[0;32m     46\u001b[0m         \u001b[39m\"\u001b[39m\u001b[39m@typechecked only supports instrumenting functions wrapped with \u001b[39m\u001b[39m\"\u001b[39m\n\u001b[0;32m     47\u001b[0m         \u001b[39m\"\u001b[39m\u001b[39m@classmethod, @staticmethod or @property\u001b[39m\u001b[39m\"\u001b[39m\n\u001b[0;32m     48\u001b[0m     )\n\u001b[0;32m     50\u001b[0m target_path \u001b[39m=\u001b[39m [item \u001b[39mfor\u001b[39;00m item \u001b[39min\u001b[39;00m f\u001b[39m.\u001b[39m\u001b[39m__qualname__\u001b[39m\u001b[39m.\u001b[39msplit(\u001b[39m\"\u001b[39m\u001b[39m.\u001b[39m\u001b[39m\"\u001b[39m) \u001b[39mif\u001b[39;00m item \u001b[39m!=\u001b[39m \u001b[39m\"\u001b[39m\u001b[39m<locals>\u001b[39m\u001b[39m\"\u001b[39m]\n\u001b[1;32m---> 51\u001b[0m module_source \u001b[39m=\u001b[39m inspect\u001b[39m.\u001b[39;49mgetsource(sys\u001b[39m.\u001b[39;49mmodules[f\u001b[39m.\u001b[39;49m\u001b[39m__module__\u001b[39;49m])\n\u001b[0;32m     52\u001b[0m module_ast \u001b[39m=\u001b[39m ast\u001b[39m.\u001b[39mparse(module_source)\n\u001b[0;32m     53\u001b[0m instrumentor \u001b[39m=\u001b[39m TypeguardTransformer(target_path)\n",
      "File \u001b[1;32m~\\AppData\\Local\\Programs\\Python\\Python311\\Lib\\inspect.py:1262\u001b[0m, in \u001b[0;36mgetsource\u001b[1;34m(object)\u001b[0m\n\u001b[0;32m   1256\u001b[0m \u001b[39mdef\u001b[39;00m \u001b[39mgetsource\u001b[39m(\u001b[39mobject\u001b[39m):\n\u001b[0;32m   1257\u001b[0m \u001b[39m    \u001b[39m\u001b[39m\"\"\"Return the text of the source code for an object.\u001b[39;00m\n\u001b[0;32m   1258\u001b[0m \n\u001b[0;32m   1259\u001b[0m \u001b[39m    The argument may be a module, class, method, function, traceback, frame,\u001b[39;00m\n\u001b[0;32m   1260\u001b[0m \u001b[39m    or code object.  The source code is returned as a single string.  An\u001b[39;00m\n\u001b[0;32m   1261\u001b[0m \u001b[39m    OSError is raised if the source code cannot be retrieved.\"\"\"\u001b[39;00m\n\u001b[1;32m-> 1262\u001b[0m     lines, lnum \u001b[39m=\u001b[39m getsourcelines(\u001b[39mobject\u001b[39;49m)\n\u001b[0;32m   1263\u001b[0m     \u001b[39mreturn\u001b[39;00m \u001b[39m'\u001b[39m\u001b[39m'\u001b[39m\u001b[39m.\u001b[39mjoin(lines)\n",
      "File \u001b[1;32m~\\AppData\\Local\\Programs\\Python\\Python311\\Lib\\inspect.py:1244\u001b[0m, in \u001b[0;36mgetsourcelines\u001b[1;34m(object)\u001b[0m\n\u001b[0;32m   1236\u001b[0m \u001b[39m\u001b[39m\u001b[39m\"\"\"Return a list of source lines and starting line number for an object.\u001b[39;00m\n\u001b[0;32m   1237\u001b[0m \n\u001b[0;32m   1238\u001b[0m \u001b[39mThe argument may be a module, class, method, function, traceback, frame,\u001b[39;00m\n\u001b[1;32m   (...)\u001b[0m\n\u001b[0;32m   1241\u001b[0m \u001b[39moriginal source file the first line of code was found.  An OSError is\u001b[39;00m\n\u001b[0;32m   1242\u001b[0m \u001b[39mraised if the source code cannot be retrieved.\"\"\"\u001b[39;00m\n\u001b[0;32m   1243\u001b[0m \u001b[39mobject\u001b[39m \u001b[39m=\u001b[39m unwrap(\u001b[39mobject\u001b[39m)\n\u001b[1;32m-> 1244\u001b[0m lines, lnum \u001b[39m=\u001b[39m findsource(\u001b[39mobject\u001b[39;49m)\n\u001b[0;32m   1246\u001b[0m \u001b[39mif\u001b[39;00m istraceback(\u001b[39mobject\u001b[39m):\n\u001b[0;32m   1247\u001b[0m     \u001b[39mobject\u001b[39m \u001b[39m=\u001b[39m \u001b[39mobject\u001b[39m\u001b[39m.\u001b[39mtb_frame\n",
      "File \u001b[1;32m~\\AppData\\Local\\Programs\\Python\\Python311\\Lib\\inspect.py:1063\u001b[0m, in \u001b[0;36mfindsource\u001b[1;34m(object)\u001b[0m\n\u001b[0;32m   1055\u001b[0m \u001b[39mdef\u001b[39;00m \u001b[39mfindsource\u001b[39m(\u001b[39mobject\u001b[39m):\n\u001b[0;32m   1056\u001b[0m \u001b[39m    \u001b[39m\u001b[39m\"\"\"Return the entire source file and starting line number for an object.\u001b[39;00m\n\u001b[0;32m   1057\u001b[0m \n\u001b[0;32m   1058\u001b[0m \u001b[39m    The argument may be a module, class, method, function, traceback, frame,\u001b[39;00m\n\u001b[0;32m   1059\u001b[0m \u001b[39m    or code object.  The source code is returned as a list of all the lines\u001b[39;00m\n\u001b[0;32m   1060\u001b[0m \u001b[39m    in the file and the line number indexes a line in that list.  An OSError\u001b[39;00m\n\u001b[0;32m   1061\u001b[0m \u001b[39m    is raised if the source code cannot be retrieved.\"\"\"\u001b[39;00m\n\u001b[1;32m-> 1063\u001b[0m     file \u001b[39m=\u001b[39m getsourcefile(\u001b[39mobject\u001b[39;49m)\n\u001b[0;32m   1064\u001b[0m     \u001b[39mif\u001b[39;00m file:\n\u001b[0;32m   1065\u001b[0m         \u001b[39m# Invalidate cache if needed.\u001b[39;00m\n\u001b[0;32m   1066\u001b[0m         linecache\u001b[39m.\u001b[39mcheckcache(file)\n",
      "File \u001b[1;32m~\\AppData\\Local\\Programs\\Python\\Python311\\Lib\\inspect.py:940\u001b[0m, in \u001b[0;36mgetsourcefile\u001b[1;34m(object)\u001b[0m\n\u001b[0;32m    936\u001b[0m \u001b[39mdef\u001b[39;00m \u001b[39mgetsourcefile\u001b[39m(\u001b[39mobject\u001b[39m):\n\u001b[0;32m    937\u001b[0m \u001b[39m    \u001b[39m\u001b[39m\"\"\"Return the filename that can be used to locate an object's source.\u001b[39;00m\n\u001b[0;32m    938\u001b[0m \u001b[39m    Return None if no way can be identified to get the source.\u001b[39;00m\n\u001b[0;32m    939\u001b[0m \u001b[39m    \"\"\"\u001b[39;00m\n\u001b[1;32m--> 940\u001b[0m     filename \u001b[39m=\u001b[39m getfile(\u001b[39mobject\u001b[39;49m)\n\u001b[0;32m    941\u001b[0m     all_bytecode_suffixes \u001b[39m=\u001b[39m importlib\u001b[39m.\u001b[39mmachinery\u001b[39m.\u001b[39mDEBUG_BYTECODE_SUFFIXES[:]\n\u001b[0;32m    942\u001b[0m     all_bytecode_suffixes \u001b[39m+\u001b[39m\u001b[39m=\u001b[39m importlib\u001b[39m.\u001b[39mmachinery\u001b[39m.\u001b[39mOPTIMIZED_BYTECODE_SUFFIXES[:]\n",
      "File \u001b[1;32m~\\AppData\\Local\\Programs\\Python\\Python311\\Lib\\inspect.py:901\u001b[0m, in \u001b[0;36mgetfile\u001b[1;34m(object)\u001b[0m\n\u001b[0;32m    899\u001b[0m     \u001b[39mif\u001b[39;00m \u001b[39mgetattr\u001b[39m(\u001b[39mobject\u001b[39m, \u001b[39m'\u001b[39m\u001b[39m__file__\u001b[39m\u001b[39m'\u001b[39m, \u001b[39mNone\u001b[39;00m):\n\u001b[0;32m    900\u001b[0m         \u001b[39mreturn\u001b[39;00m \u001b[39mobject\u001b[39m\u001b[39m.\u001b[39m\u001b[39m__file__\u001b[39m\n\u001b[1;32m--> 901\u001b[0m     \u001b[39mraise\u001b[39;00m \u001b[39mTypeError\u001b[39;00m(\u001b[39m'\u001b[39m\u001b[39m{!r}\u001b[39;00m\u001b[39m is a built-in module\u001b[39m\u001b[39m'\u001b[39m\u001b[39m.\u001b[39mformat(\u001b[39mobject\u001b[39m))\n\u001b[0;32m    902\u001b[0m \u001b[39mif\u001b[39;00m isclass(\u001b[39mobject\u001b[39m):\n\u001b[0;32m    903\u001b[0m     \u001b[39mif\u001b[39;00m \u001b[39mhasattr\u001b[39m(\u001b[39mobject\u001b[39m, \u001b[39m'\u001b[39m\u001b[39m__module__\u001b[39m\u001b[39m'\u001b[39m):\n",
      "\u001b[1;31mTypeError\u001b[0m: <module '__main__'> is a built-in module"
     ]
    }
   ],
   "source": [
    "from typeguard import typechecked\n",
    "\n",
    "\n",
    "@typechecked\n",
    "def my_function(arg: int, other_arg: str):\n",
    "    # Rest of the function's code...\n",
    "    return 1\n",
    "\n",
    "# Testing the function\n",
    "my_function(10, \"Hello\")  # Valid arguments, both int and str\n",
    "my_function(\"Hello\", 10)  # Raises TypeError, arguments are in the wrong order\n",
    "my_function(10, 20)  # Raises TypeError, second argument is not a string"
   ]
  },
  {
   "cell_type": "code",
   "execution_count": 7,
   "metadata": {},
   "outputs": [
    {
     "ename": "ValidationError",
     "evalue": "1 validation error for User\nfriends -> 3\n  value is not a valid integer (type=type_error.integer)",
     "output_type": "error",
     "traceback": [
      "\u001b[1;31m---------------------------------------------------------------------------\u001b[0m",
      "\u001b[1;31mValidationError\u001b[0m                           Traceback (most recent call last)",
      "Cell \u001b[1;32mIn[7], line 17\u001b[0m\n\u001b[0;32m      9\u001b[0m     friends: \u001b[39mlist\u001b[39m[\u001b[39mint\u001b[39m] \u001b[39m=\u001b[39m []\n\u001b[0;32m     12\u001b[0m external_data \u001b[39m=\u001b[39m {\n\u001b[0;32m     13\u001b[0m     \u001b[39m'\u001b[39m\u001b[39mid\u001b[39m\u001b[39m'\u001b[39m: \u001b[39m\"\u001b[39m\u001b[39m1\u001b[39m\u001b[39m\"\u001b[39m,\n\u001b[0;32m     14\u001b[0m     \u001b[39m'\u001b[39m\u001b[39msignup_ts\u001b[39m\u001b[39m'\u001b[39m: \u001b[39m'\u001b[39m\u001b[39m2019-06-01 12:22\u001b[39m\u001b[39m'\u001b[39m,\n\u001b[0;32m     15\u001b[0m     \u001b[39m'\u001b[39m\u001b[39mfriends\u001b[39m\u001b[39m'\u001b[39m: [\u001b[39m1\u001b[39m, \u001b[39m2\u001b[39m, \u001b[39m'\u001b[39m\u001b[39m3\u001b[39m\u001b[39m'\u001b[39m,\u001b[39m\"\u001b[39m\u001b[39maz\u001b[39m\u001b[39m\"\u001b[39m],\n\u001b[0;32m     16\u001b[0m }\n\u001b[1;32m---> 17\u001b[0m user \u001b[39m=\u001b[39m User(\u001b[39m*\u001b[39;49m\u001b[39m*\u001b[39;49mexternal_data)\n\u001b[0;32m     18\u001b[0m \u001b[39mprint\u001b[39m(user\u001b[39m.\u001b[39mid)\n\u001b[0;32m     19\u001b[0m \u001b[39m#> 123\u001b[39;00m\n",
      "File \u001b[1;32mc:\\Z\\reqpy\\.venv\\Lib\\site-packages\\pydantic\\main.py:341\u001b[0m, in \u001b[0;36mpydantic.main.BaseModel.__init__\u001b[1;34m()\u001b[0m\n",
      "\u001b[1;31mValidationError\u001b[0m: 1 validation error for User\nfriends -> 3\n  value is not a valid integer (type=type_error.integer)"
     ]
    }
   ],
   "source": [
    "\n",
    "from datetime import datetime\n",
    "from pydantic import BaseModel\n",
    "\n",
    "\n",
    "class User(BaseModel):\n",
    "    id: int\n",
    "    name = 'John Doe'\n",
    "    signup_ts: datetime | None = None\n",
    "    friends: list[int] = []\n",
    "\n",
    "\n",
    "external_data = {\n",
    "    'id': \"1\",\n",
    "    'signup_ts': '2019-06-01 12:22',\n",
    "    'friends': [1, 2, '3',\"az\"],\n",
    "}\n",
    "user = User(**external_data)\n",
    "print(user.id)\n",
    "#> 123\n",
    "print(repr(user.signup_ts))\n",
    "#> datetime.datetime(2019, 6, 1, 12, 22)\n",
    "print(user.friends)\n",
    "#> [1, 2, 3]\n",
    "print(user.dict())\n",
    "\"\"\"\n",
    "{\n",
    "    'id': 123,\n",
    "    'signup_ts': datetime.datetime(2019, 6, 1, 12, 22),\n",
    "    'friends': [1, 2, 3],\n",
    "    'name': 'John Doe',\n",
    "}\n",
    "\"\"\""
   ]
  },
  {
   "cell_type": "code",
   "execution_count": 1,
   "metadata": {},
   "outputs": [
    {
     "name": "stdout",
     "output_type": "stream",
     "text": [
      "name='John' age=30\n",
      "name='John' age='a'\n"
     ]
    }
   ],
   "source": [
    "from pydantic import BaseModel, Field\n",
    "\n",
    "\n",
    "class Person(BaseModel):\n",
    "    name: str \n",
    "    age: int\n",
    "\n",
    "person = Person(name=\"John\", age=30)\n",
    "print(person)  # Person name='John' age=30\n",
    "\n",
    "# Trying to assign an invalid type to a property\n",
    "person.age = \"a\"  # Raises ValidationError with the customized error message\n",
    "\n",
    "print(person)"
   ]
  },
  {
   "cell_type": "code",
   "execution_count": 2,
   "metadata": {},
   "outputs": [
    {
     "name": "stdout",
     "output_type": "stream",
     "text": [
      "Name: John\n",
      "Age: 30\n"
     ]
    }
   ],
   "source": [
    "from pydantic import BaseModel, ValidationError\n",
    "\n",
    "\n",
    "class Person(BaseModel):\n",
    "    name: str\n",
    "    age: int\n",
    "\n",
    "\n",
    "def my_function(person: Person):\n",
    "    \"\"\"\n",
    "    Performs some operation using the validated person object.\n",
    "\n",
    "    Args:\n",
    "        person: The person object to validate and use.\n",
    "\n",
    "    Raises:\n",
    "        ValidationError: If the person object is invalid.\n",
    "    \"\"\"\n",
    "    # Rest of the function's code...\n",
    "    print(f\"Name: {person.name}\")\n",
    "    print(f\"Age: {person.age}\")\n",
    "\n",
    "\n",
    "# Testing the function\n",
    "try:\n",
    "    person = Person(name=\"John\", age=30)\n",
    "    my_function(person)\n",
    "except ValidationError as e:\n",
    "    print(f\"Invalid argument: {e}\")\n"
   ]
  }
 ],
 "metadata": {
  "kernelspec": {
   "display_name": ".venv",
   "language": "python",
   "name": "python3"
  },
  "language_info": {
   "codemirror_mode": {
    "name": "ipython",
    "version": 3
   },
   "file_extension": ".py",
   "mimetype": "text/x-python",
   "name": "python",
   "nbconvert_exporter": "python",
   "pygments_lexer": "ipython3",
   "version": "3.11.3"
  },
  "orig_nbformat": 4
 },
 "nbformat": 4,
 "nbformat_minor": 2
}
